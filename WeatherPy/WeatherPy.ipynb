{
 "cells": [
  {
   "cell_type": "markdown",
   "metadata": {},
   "source": [
    "# WeatherPy\n",
    "----\n",
    "\n",
    "#### Note\n",
    "* Instructions have been included for each segment. You do not have to follow them exactly, but they are included to help you think through the steps."
   ]
  },
  {
   "cell_type": "code",
   "execution_count": 1,
   "metadata": {},
   "outputs": [
    {
     "name": "stdout",
     "output_type": "stream",
     "text": [
      "Requirement already satisfied: citipy in c:\\users\\lol\\anaconda3\\lib\\site-packages (0.0.5)\n",
      "Requirement already satisfied: kdtree>=0.12 in c:\\users\\lol\\anaconda3\\lib\\site-packages (from citipy) (0.16)\n"
     ]
    }
   ],
   "source": [
    "!pip install citipy"
   ]
  },
  {
   "cell_type": "code",
   "execution_count": 2,
   "metadata": {
    "scrolled": true
   },
   "outputs": [],
   "source": [
    "# Dependencies and Setup\n",
    "import matplotlib.pyplot as plt\n",
    "import pandas as pd\n",
    "import numpy as np\n",
    "import requests\n",
    "import time\n",
    "from scipy.stats import linregress\n",
    "\n",
    "# Import API key\n",
    "from api_keys import weather_api_key\n",
    "\n",
    "# Incorporated citipy to determine city based on latitude and longitude\n",
    "from citipy import citipy\n",
    "\n",
    "# Output File (CSV)\n",
    "output_data_file = \"output_data/cities.csv\"\n",
    "\n",
    "# Range of latitudes and longitudes\n",
    "lat_range = (-90, 90)\n",
    "lng_range = (-180, 180)"
   ]
  },
  {
   "cell_type": "markdown",
   "metadata": {},
   "source": [
    "## Generate Cities List"
   ]
  },
  {
   "cell_type": "code",
   "execution_count": 3,
   "metadata": {},
   "outputs": [
    {
     "data": {
      "text/plain": [
       "598"
      ]
     },
     "execution_count": 3,
     "metadata": {},
     "output_type": "execute_result"
    }
   ],
   "source": [
    "# List for holding lat_lngs and cities\n",
    "lat_lngs = []\n",
    "cities = []\n",
    "\n",
    "# Create a set of random lat and lng combinations\n",
    "lats = np.random.uniform(low=-90.000, high=90.000, size=1500)\n",
    "lngs = np.random.uniform(low=-180.000, high=180.000, size=1500)\n",
    "lat_lngs = zip(lats, lngs)\n",
    "\n",
    "# Identify nearest city for each lat, lng combination\n",
    "for lat_lng in lat_lngs:\n",
    "    city = citipy.nearest_city(lat_lng[0], lat_lng[1]).city_name\n",
    "    \n",
    "    # If the city is unique, then add it to a our cities list\n",
    "    if city not in cities:\n",
    "        cities.append(city)\n",
    "\n",
    "# Print the city count to confirm sufficient count\n",
    "len(cities)"
   ]
  },
  {
   "cell_type": "markdown",
   "metadata": {},
   "source": [
    "### Perform API Calls\n",
    "* Perform a weather check on each city using a series of successive API calls.\n",
    "* Include a print log of each city as it'sbeing processed (with the city number and city name).\n"
   ]
  },
  {
   "cell_type": "code",
   "execution_count": 4,
   "metadata": {},
   "outputs": [],
   "source": [
    "# Initializing Endpoint\n",
    "url = \"http://api.openweathermap.org/data/2.5/weather?\"\n",
    "units = \"imperial\"\n",
    "\n",
    "params = {\n",
    "    'appid' : weather_api_key,\n",
    "    'units': 'imperial',\n",
    "    'q' : 'portobelo'\n",
    "}\n",
    "\n",
    "endpoint = f\"{url}units={units}&appid={weather_api_key}&q=\""
   ]
  },
  {
   "cell_type": "code",
   "execution_count": 5,
   "metadata": {},
   "outputs": [
    {
     "data": {
      "text/plain": [
       "{'coord': {'lon': -79.65, 'lat': 9.55},\n",
       " 'weather': [{'id': 804,\n",
       "   'main': 'Clouds',\n",
       "   'description': 'overcast clouds',\n",
       "   'icon': '04d'}],\n",
       " 'base': 'stations',\n",
       " 'main': {'temp': 74.19,\n",
       "  'feels_like': 79.97,\n",
       "  'temp_min': 66.99,\n",
       "  'temp_max': 82,\n",
       "  'pressure': 899,\n",
       "  'humidity': 99},\n",
       " 'visibility': 10000,\n",
       " 'wind': {'speed': 7, 'deg': 180, 'gust': 13},\n",
       " 'clouds': {'all': 95},\n",
       " 'dt': 1615935914,\n",
       " 'sys': {'type': 3,\n",
       "  'id': 2034125,\n",
       "  'country': 'PA',\n",
       "  'sunrise': 1615893893,\n",
       "  'sunset': 1615937370},\n",
       " 'timezone': -18000,\n",
       " 'id': 3702577,\n",
       " 'name': 'Portobelo',\n",
       " 'cod': 200}"
      ]
     },
     "execution_count": 5,
     "metadata": {},
     "output_type": "execute_result"
    }
   ],
   "source": [
    "# Get a response to proof our endpoint and lok up json format\n",
    "# response = requests.get(endpoint + \"mataura\").json()\n",
    "response = requests.get(url, params=params).json()\n",
    "response"
   ]
  },
  {
   "cell_type": "code",
   "execution_count": 6,
   "metadata": {},
   "outputs": [
    {
     "data": {
      "text/plain": [
       "(598, 1)"
      ]
     },
     "execution_count": 6,
     "metadata": {},
     "output_type": "execute_result"
    }
   ],
   "source": [
    "cities_df = pd.DataFrame({'City':cities})\n",
    "cities_df.shape"
   ]
  },
  {
   "cell_type": "code",
   "execution_count": 7,
   "metadata": {
    "scrolled": true
   },
   "outputs": [
    {
     "data": {
      "text/html": [
       "<div>\n",
       "<style scoped>\n",
       "    .dataframe tbody tr th:only-of-type {\n",
       "        vertical-align: middle;\n",
       "    }\n",
       "\n",
       "    .dataframe tbody tr th {\n",
       "        vertical-align: top;\n",
       "    }\n",
       "\n",
       "    .dataframe thead th {\n",
       "        text-align: right;\n",
       "    }\n",
       "</style>\n",
       "<table border=\"1\" class=\"dataframe\">\n",
       "  <thead>\n",
       "    <tr style=\"text-align: right;\">\n",
       "      <th></th>\n",
       "      <th>City</th>\n",
       "      <th>Cloudiness</th>\n",
       "      <th>Country</th>\n",
       "      <th>Date</th>\n",
       "      <th>Humidity</th>\n",
       "      <th>Lat</th>\n",
       "      <th>Lng</th>\n",
       "      <th>MaxTemp</th>\n",
       "      <th>WindSpeed</th>\n",
       "    </tr>\n",
       "  </thead>\n",
       "  <tbody>\n",
       "    <tr>\n",
       "      <th>0</th>\n",
       "      <td>comodoro rivadavia</td>\n",
       "      <td></td>\n",
       "      <td></td>\n",
       "      <td></td>\n",
       "      <td></td>\n",
       "      <td></td>\n",
       "      <td></td>\n",
       "      <td></td>\n",
       "      <td></td>\n",
       "    </tr>\n",
       "    <tr>\n",
       "      <th>1</th>\n",
       "      <td>faanui</td>\n",
       "      <td></td>\n",
       "      <td></td>\n",
       "      <td></td>\n",
       "      <td></td>\n",
       "      <td></td>\n",
       "      <td></td>\n",
       "      <td></td>\n",
       "      <td></td>\n",
       "    </tr>\n",
       "    <tr>\n",
       "      <th>2</th>\n",
       "      <td>upernavik</td>\n",
       "      <td></td>\n",
       "      <td></td>\n",
       "      <td></td>\n",
       "      <td></td>\n",
       "      <td></td>\n",
       "      <td></td>\n",
       "      <td></td>\n",
       "      <td></td>\n",
       "    </tr>\n",
       "    <tr>\n",
       "      <th>3</th>\n",
       "      <td>puerto escondido</td>\n",
       "      <td></td>\n",
       "      <td></td>\n",
       "      <td></td>\n",
       "      <td></td>\n",
       "      <td></td>\n",
       "      <td></td>\n",
       "      <td></td>\n",
       "      <td></td>\n",
       "    </tr>\n",
       "    <tr>\n",
       "      <th>4</th>\n",
       "      <td>rikitea</td>\n",
       "      <td></td>\n",
       "      <td></td>\n",
       "      <td></td>\n",
       "      <td></td>\n",
       "      <td></td>\n",
       "      <td></td>\n",
       "      <td></td>\n",
       "      <td></td>\n",
       "    </tr>\n",
       "  </tbody>\n",
       "</table>\n",
       "</div>"
      ],
      "text/plain": [
       "                 City Cloudiness Country Date Humidity Lat Lng MaxTemp  \\\n",
       "0  comodoro rivadavia                                                    \n",
       "1              faanui                                                    \n",
       "2           upernavik                                                    \n",
       "3    puerto escondido                                                    \n",
       "4             rikitea                                                    \n",
       "\n",
       "  WindSpeed  \n",
       "0            \n",
       "1            \n",
       "2            \n",
       "3            \n",
       "4            "
      ]
     },
     "execution_count": 7,
     "metadata": {},
     "output_type": "execute_result"
    }
   ],
   "source": [
    "# Initializing the Data Frame\n",
    "cities_df['Cloudiness'] = ''\n",
    "cities_df['Country']    = ''\n",
    "cities_df['Date']       = ''\n",
    "cities_df['Humidity']   = ''\n",
    "cities_df['Lat']        = ''\n",
    "cities_df['Lng']        = ''\n",
    "cities_df['MaxTemp']    = ''\n",
    "cities_df['WindSpeed']  = ''\n",
    "cities_df.head()"
   ]
  },
  {
   "cell_type": "code",
   "execution_count": null,
   "metadata": {},
   "outputs": [
    {
     "name": "stdout",
     "output_type": "stream",
     "text": [
      "Obtaining data... \n",
      "Processing Record 0 of 598 | comodoro rivadavia\n",
      "Processing Record 1 of 598 | faanui\n",
      "Processing Record 2 of 598 | upernavik\n",
      "Processing Record 3 of 598 | puerto escondido\n",
      "Processing Record 4 of 598 | rikitea\n",
      "Processing Record 5 of 598 | norman wells\n",
      "Processing Record 6 of 598 | salalah\n",
      "Processing Record 7 of 598 | bethel\n",
      "Processing Record 8 of 598 | tingo maria\n",
      "Processing Record 9 of 598 | port alfred\n",
      "Processing Record 10 of 598 | hobart\n",
      "Processing Record 11 of 598 | attawapiskat\n",
      "City not found. Skipping...\n",
      "Processing Record 12 of 598 | hermanus\n",
      "Processing Record 13 of 598 | castro\n",
      "Processing Record 14 of 598 | airai\n",
      "Processing Record 15 of 598 | albany\n",
      "Processing Record 16 of 598 | saint-philippe\n",
      "Processing Record 17 of 598 | kitgum\n",
      "Processing Record 18 of 598 | ushuaia\n",
      "Processing Record 19 of 598 | tuktoyaktuk\n",
      "Processing Record 20 of 598 | barrow\n",
      "Processing Record 21 of 598 | mataura\n",
      "Processing Record 22 of 598 | yarim\n",
      "Processing Record 23 of 598 | new norfolk\n",
      "Processing Record 24 of 598 | edd\n",
      "Processing Record 25 of 598 | maloy\n",
      "Processing Record 26 of 598 | jamestown\n",
      "Processing Record 27 of 598 | qaanaaq\n",
      "Processing Record 28 of 598 | bastogne\n",
      "Processing Record 29 of 598 | busselton\n",
      "Processing Record 30 of 598 | bambous virieux\n",
      "Processing Record 31 of 598 | avarua\n",
      "Processing Record 32 of 598 | clarence town\n",
      "Processing Record 33 of 598 | labuhan\n",
      "Processing Record 34 of 598 | severo-kurilsk\n",
      "Processing Record 35 of 598 | moses lake\n",
      "Processing Record 36 of 598 | lompoc\n",
      "Processing Record 37 of 598 | yellowknife\n",
      "Processing Record 38 of 598 | tasiilaq\n",
      "Processing Record 39 of 598 | kavaratti\n",
      "Processing Record 40 of 598 | yagodnoye\n",
      "Processing Record 41 of 598 | bo\n",
      "City not found. Skipping...\n",
      "Processing Record 42 of 598 | butaritari\n",
      "Processing Record 43 of 598 | east london\n",
      "Processing Record 44 of 598 | plymouth\n",
      "Processing Record 45 of 598 | odweyne\n",
      "Processing Record 46 of 598 | kaka\n",
      "Processing Record 47 of 598 | chuy\n",
      "Processing Record 48 of 598 | atuona\n",
      "Processing Record 49 of 598 | georgetown\n",
      "Processing Record 50 of 598 | pio xii\n",
      "Processing Record 51 of 598 | dikson\n",
      "Processing Record 52 of 598 | namatanai\n",
      "Processing Record 53 of 598 | jeremie\n",
      "Processing Record 54 of 598 | yarada\n",
      "Processing Record 55 of 598 | kaitangata\n",
      "Processing Record 56 of 598 | carnarvon\n",
      "Processing Record 57 of 598 | nizhneyansk\n",
      "City not found. Skipping...\n",
      "Processing Record 58 of 598 | novikovo\n",
      "Processing Record 59 of 598 | solovetskiy\n",
      "City not found. Skipping...\n",
      "Processing Record 60 of 598 | vaini\n",
      "Processing Record 61 of 598 | sembe\n",
      "Processing Record 62 of 598 | kapaa\n",
      "Processing Record 63 of 598 | hilo\n",
      "Processing Record 64 of 598 | skjaerhollen\n",
      "City not found. Skipping...\n",
      "Processing Record 65 of 598 | lagoa\n",
      "Processing Record 66 of 598 | pundaguitan\n",
      "Processing Record 67 of 598 | nalut\n",
      "Processing Record 68 of 598 | chokurdakh\n",
      "Processing Record 69 of 598 | vestmanna\n",
      "Processing Record 70 of 598 | skalistyy\n",
      "City not found. Skipping...\n",
      "Processing Record 71 of 598 | bengkulu\n",
      "Processing Record 72 of 598 | lebu\n",
      "Processing Record 73 of 598 | farmington\n",
      "Processing Record 74 of 598 | karratha\n",
      "Processing Record 75 of 598 | grand river south east\n",
      "City not found. Skipping...\n",
      "Processing Record 76 of 598 | ukwa\n",
      "Processing Record 77 of 598 | port blair\n",
      "Processing Record 78 of 598 | buraydah\n",
      "Processing Record 79 of 598 | makat\n",
      "Processing Record 80 of 598 | usinsk\n",
      "Processing Record 81 of 598 | matai\n",
      "Processing Record 82 of 598 | mitsamiouli\n",
      "Processing Record 83 of 598 | mys shmidta\n",
      "City not found. Skipping...\n",
      "Processing Record 84 of 598 | ulaanbaatar\n",
      "Processing Record 85 of 598 | sayyan\n",
      "Processing Record 86 of 598 | goderich\n",
      "Processing Record 87 of 598 | vostok\n",
      "Processing Record 88 of 598 | mahebourg\n",
      "Processing Record 89 of 598 | puerto colombia\n",
      "Processing Record 90 of 598 | tiksi\n",
      "Processing Record 91 of 598 | ulagan\n",
      "Processing Record 92 of 598 | tumannyy\n",
      "City not found. Skipping...\n",
      "Processing Record 93 of 598 | rio grande\n",
      "Processing Record 94 of 598 | asau\n",
      "Processing Record 95 of 598 | pingzhuang\n",
      "Processing Record 96 of 598 | bredasdorp\n",
      "Processing Record 97 of 598 | strezhevoy\n",
      "Processing Record 98 of 598 | victoria\n",
      "Processing Record 99 of 598 | maragogi\n",
      "Processing Record 100 of 598 | necochea\n",
      "Processing Record 101 of 598 | kavieng\n",
      "Processing Record 102 of 598 | taolanaro\n",
      "City not found. Skipping...\n",
      "Processing Record 103 of 598 | punta arenas\n",
      "Processing Record 104 of 598 | bereda\n",
      "Processing Record 105 of 598 | huarmey\n",
      "Processing Record 106 of 598 | baturaja\n",
      "Processing Record 107 of 598 | nadym\n",
      "Processing Record 108 of 598 | thinadhoo\n",
      "Processing Record 109 of 598 | port hedland\n",
      "Processing Record 110 of 598 | ayr\n",
      "Processing Record 111 of 598 | teguldet\n",
      "Processing Record 112 of 598 | codrington\n",
      "Processing Record 113 of 598 | boquira\n",
      "Processing Record 114 of 598 | shahreza\n",
      "Processing Record 115 of 598 | lavrentiya\n",
      "Processing Record 116 of 598 | axim\n",
      "Processing Record 117 of 598 | yulara\n",
      "Processing Record 118 of 598 | madang\n",
      "Processing Record 119 of 598 | longyearbyen\n",
      "Processing Record 120 of 598 | marsa matruh\n",
      "Processing Record 121 of 598 | nykobing\n",
      "City not found. Skipping...\n",
      "Processing Record 122 of 598 | hakui\n",
      "Processing Record 123 of 598 | piacabucu\n",
      "Processing Record 124 of 598 | libourne\n",
      "Processing Record 125 of 598 | senanga\n",
      "Processing Record 126 of 598 | sao raimundo das mangabeiras\n",
      "Processing Record 127 of 598 | vaitupu\n",
      "City not found. Skipping...\n",
      "Processing Record 128 of 598 | temaraia\n",
      "City not found. Skipping...\n",
      "Processing Record 129 of 598 | carbonia\n",
      "Processing Record 130 of 598 | alofi\n",
      "Processing Record 131 of 598 | saleaula\n",
      "City not found. Skipping...\n",
      "Processing Record 132 of 598 | shintomi\n",
      "Processing Record 133 of 598 | hofn\n",
      "Processing Record 134 of 598 | coquimbo\n",
      "Processing Record 135 of 598 | saint george\n",
      "Processing Record 136 of 598 | puerto ayora\n",
      "Processing Record 137 of 598 | sept-iles\n",
      "Processing Record 138 of 598 | bluff\n",
      "Processing Record 139 of 598 | taguatinga\n",
      "Processing Record 140 of 598 | zyryanka\n",
      "Processing Record 141 of 598 | nabire\n",
      "Processing Record 142 of 598 | arraial do cabo\n",
      "Processing Record 143 of 598 | kualakapuas\n",
      "Processing Record 144 of 598 | port lincoln\n",
      "Processing Record 145 of 598 | avera\n",
      "Processing Record 146 of 598 | barentsburg\n",
      "City not found. Skipping...\n",
      "Processing Record 147 of 598 | peace river\n",
      "Processing Record 148 of 598 | constantine\n",
      "Processing Record 149 of 598 | san cristobal\n",
      "Processing Record 150 of 598 | igrim\n",
      "Processing Record 151 of 598 | tuatapere\n",
      "Processing Record 152 of 598 | isabela\n",
      "Processing Record 153 of 598 | kajaani\n",
      "Processing Record 154 of 598 | cidreira\n",
      "Processing Record 155 of 598 | port elizabeth\n",
      "Processing Record 156 of 598 | alexandria\n",
      "Processing Record 157 of 598 | cherskiy\n",
      "Processing Record 158 of 598 | bandarbeyla\n",
      "Processing Record 159 of 598 | bowen\n",
      "Processing Record 160 of 598 | belmonte\n",
      "Processing Record 161 of 598 | alotau\n",
      "City not found. Skipping...\n",
      "Processing Record 162 of 598 | matara\n",
      "Processing Record 163 of 598 | los llanos de aridane\n",
      "Processing Record 164 of 598 | nacala\n",
      "Processing Record 165 of 598 | amos\n",
      "Processing Record 166 of 598 | uray\n",
      "Processing Record 167 of 598 | petukhovo\n",
      "Processing Record 168 of 598 | caxias\n",
      "Processing Record 169 of 598 | souillac\n",
      "Processing Record 170 of 598 | torbay\n",
      "Processing Record 171 of 598 | klaksvik\n",
      "Processing Record 172 of 598 | haines junction\n",
      "Processing Record 173 of 598 | tuggurt\n",
      "City not found. Skipping...\n",
      "Processing Record 174 of 598 | komsomolskiy\n",
      "Processing Record 175 of 598 | thompson\n",
      "Processing Record 176 of 598 | ucluelet\n",
      "Processing Record 177 of 598 | markova\n",
      "Processing Record 178 of 598 | barkot\n",
      "Processing Record 179 of 598 | akyab\n",
      "Processing Record 180 of 598 | svetlogorsk\n",
      "Processing Record 181 of 598 | gazli\n",
      "Processing Record 182 of 598 | krasnoarmeysk\n",
      "Processing Record 183 of 598 | labuan\n",
      "Processing Record 184 of 598 | acapulco\n",
      "Processing Record 185 of 598 | cauquenes\n",
      "Processing Record 186 of 598 | bubaque\n",
      "Processing Record 187 of 598 | warqla\n",
      "City not found. Skipping...\n",
      "Processing Record 188 of 598 | marsh harbour\n",
      "Processing Record 189 of 598 | saskylakh\n",
      "Processing Record 190 of 598 | rundu\n",
      "Processing Record 191 of 598 | sao filipe\n",
      "Processing Record 192 of 598 | nioro\n"
     ]
    },
    {
     "name": "stdout",
     "output_type": "stream",
     "text": [
      "Processing Record 193 of 598 | scottsburgh\n",
      "City not found. Skipping...\n",
      "Processing Record 194 of 598 | mantua\n",
      "Processing Record 195 of 598 | theunissen\n",
      "Processing Record 196 of 598 | abilene\n",
      "Processing Record 197 of 598 | illoqqortoormiut\n",
      "City not found. Skipping...\n",
      "Processing Record 198 of 598 | isoka\n",
      "Processing Record 199 of 598 | daru\n",
      "Processing Record 200 of 598 | esperance\n",
      "Processing Record 201 of 598 | ribeira grande\n",
      "Processing Record 202 of 598 | hasaki\n",
      "Processing Record 203 of 598 | rawson\n",
      "Processing Record 204 of 598 | susehri\n",
      "Processing Record 205 of 598 | romny\n",
      "Processing Record 206 of 598 | matamoros\n",
      "Processing Record 207 of 598 | yanchukan\n",
      "City not found. Skipping...\n",
      "Processing Record 208 of 598 | estevan\n",
      "Processing Record 209 of 598 | sioux lookout\n",
      "Processing Record 210 of 598 | caronport\n",
      "Processing Record 211 of 598 | san luis\n",
      "Processing Record 212 of 598 | nara\n",
      "Processing Record 213 of 598 | shahrud\n",
      "Processing Record 214 of 598 | worcester\n",
      "Processing Record 215 of 598 | satitoa\n",
      "City not found. Skipping...\n",
      "Processing Record 216 of 598 | hammerfest\n",
      "Processing Record 217 of 598 | rockport\n",
      "Processing Record 218 of 598 | khlevnoye\n",
      "Processing Record 219 of 598 | taoudenni\n",
      "Processing Record 220 of 598 | chapais\n",
      "Processing Record 221 of 598 | sentyabrskiy\n",
      "City not found. Skipping...\n",
      "Processing Record 222 of 598 | roma\n",
      "Processing Record 223 of 598 | iqaluit\n",
      "Processing Record 224 of 598 | mount isa\n",
      "Processing Record 225 of 598 | malwan\n",
      "City not found. Skipping...\n",
      "Processing Record 226 of 598 | clarksdale\n",
      "Processing Record 227 of 598 | sao felix do xingu\n",
      "Processing Record 228 of 598 | lae\n",
      "Processing Record 229 of 598 | ostrovnoy\n",
      "Processing Record 230 of 598 | ponta do sol\n",
      "Processing Record 231 of 598 | panormos\n",
      "Processing Record 232 of 598 | pacific grove\n",
      "Processing Record 233 of 598 | khatanga\n",
      "Processing Record 234 of 598 | saint-joseph\n",
      "Processing Record 235 of 598 | kodiak\n",
      "Processing Record 236 of 598 | margate\n",
      "Processing Record 237 of 598 | mar del plata\n",
      "Processing Record 238 of 598 | maniitsoq\n",
      "Processing Record 239 of 598 | novo aripuana\n",
      "Processing Record 240 of 598 | karatau\n",
      "Processing Record 241 of 598 | meulaboh\n",
      "Processing Record 242 of 598 | qena\n",
      "Processing Record 243 of 598 | sao joao da barra\n",
      "Processing Record 244 of 598 | kologriv\n",
      "Processing Record 245 of 598 | kizukuri\n",
      "Processing Record 246 of 598 | cape town\n",
      "Processing Record 247 of 598 | fort nelson\n",
      "Processing Record 248 of 598 | portree\n",
      "Processing Record 249 of 598 | provideniya\n",
      "Processing Record 250 of 598 | bosaso\n",
      "Processing Record 251 of 598 | pisco\n",
      "Processing Record 252 of 598 | husavik\n",
      "Processing Record 253 of 598 | fairbanks\n",
      "Processing Record 254 of 598 | soyo\n",
      "Processing Record 255 of 598 | asyut\n",
      "Processing Record 256 of 598 | sur\n",
      "Processing Record 257 of 598 | pampierstad\n",
      "Processing Record 258 of 598 | oranjestad\n",
      "Processing Record 259 of 598 | kahului\n",
      "Processing Record 260 of 598 | sebezh\n",
      "Processing Record 261 of 598 | praia da vitoria\n",
      "Processing Record 262 of 598 | skage\n",
      "City not found. Skipping...\n",
      "Processing Record 263 of 598 | killybegs\n",
      "Processing Record 264 of 598 | boma\n",
      "Processing Record 265 of 598 | adrar\n",
      "Processing Record 266 of 598 | fort-shevchenko\n",
      "Processing Record 267 of 598 | pilar\n",
      "Processing Record 268 of 598 | kangaatsiaq\n",
      "Processing Record 269 of 598 | mount gambier\n",
      "Processing Record 270 of 598 | toktogul\n",
      "Processing Record 271 of 598 | belushya guba\n",
      "City not found. Skipping...\n",
      "Processing Record 272 of 598 | caravelas\n",
      "Processing Record 273 of 598 | funchal\n",
      "Processing Record 274 of 598 | yarmouth\n",
      "Processing Record 275 of 598 | port macquarie\n",
      "Processing Record 276 of 598 | clyde river\n",
      "Processing Record 277 of 598 | samarai\n",
      "Processing Record 278 of 598 | talnakh\n",
      "Processing Record 279 of 598 | ratangarh\n",
      "Processing Record 280 of 598 | vao\n",
      "Processing Record 281 of 598 | nohar\n",
      "Processing Record 282 of 598 | teluk intan\n",
      "Processing Record 283 of 598 | yar-sale\n",
      "Processing Record 284 of 598 | wewak\n",
      "Processing Record 285 of 598 | celestun\n",
      "Processing Record 286 of 598 | umzimvubu\n",
      "City not found. Skipping...\n",
      "Processing Record 287 of 598 | velikiy ustyug\n",
      "Processing Record 288 of 598 | sabang\n",
      "Processing Record 289 of 598 | bud\n",
      "Processing Record 290 of 598 | olafsvik\n",
      "Processing Record 291 of 598 | isangel\n",
      "Processing Record 292 of 598 | nikolskoye\n",
      "Processing Record 293 of 598 | abu zabad\n",
      "Processing Record 294 of 598 | pozzallo\n",
      "Processing Record 295 of 598 | ikom\n",
      "Processing Record 296 of 598 | mehamn\n",
      "Processing Record 297 of 598 | sunnyside\n",
      "Processing Record 298 of 598 | leh\n",
      "Processing Record 299 of 598 | rio gallegos\n",
      "Processing Record 300 of 598 | amapa\n",
      "Processing Record 301 of 598 | pangnirtung\n",
      "Processing Record 302 of 598 | wasilla\n",
      "Processing Record 303 of 598 | bathsheba\n",
      "Processing Record 304 of 598 | narodychi\n",
      "Processing Record 305 of 598 | hithadhoo\n",
      "Processing Record 306 of 598 | makarov\n",
      "Processing Record 307 of 598 | fremont\n",
      "Processing Record 308 of 598 | whitecourt\n",
      "Processing Record 309 of 598 | sao lourenco\n",
      "Processing Record 310 of 598 | marcona\n",
      "City not found. Skipping...\n",
      "Processing Record 311 of 598 | samusu\n",
      "City not found. Skipping...\n",
      "Processing Record 312 of 598 | edson\n",
      "Processing Record 313 of 598 | bismarck\n",
      "Processing Record 314 of 598 | saint-augustin\n",
      "Processing Record 315 of 598 | lincoln\n",
      "Processing Record 316 of 598 | udgir\n",
      "Processing Record 317 of 598 | amderma\n",
      "City not found. Skipping...\n",
      "Processing Record 318 of 598 | rawah\n",
      "Processing Record 319 of 598 | nome\n",
      "Processing Record 320 of 598 | cockburn town\n",
      "Processing Record 321 of 598 | viedma\n",
      "Processing Record 322 of 598 | pevek\n",
      "Processing Record 323 of 598 | bereznik\n",
      "Processing Record 324 of 598 | launceston\n",
      "Processing Record 325 of 598 | houston\n",
      "Processing Record 326 of 598 | touros\n",
      "Processing Record 327 of 598 | koratla\n",
      "Processing Record 328 of 598 | hokitika\n",
      "Processing Record 329 of 598 | cheuskiny\n",
      "City not found. Skipping...\n",
      "Processing Record 330 of 598 | katsuura\n",
      "Processing Record 331 of 598 | poso\n",
      "Processing Record 332 of 598 | lolua\n",
      "City not found. Skipping...\n",
      "Processing Record 333 of 598 | jacqueville\n",
      "Processing Record 334 of 598 | sao jose da coroa grande\n",
      "Processing Record 335 of 598 | san isidro\n",
      "Processing Record 336 of 598 | fuyu\n",
      "Processing Record 337 of 598 | deputatskiy\n",
      "Processing Record 338 of 598 | san quintin\n",
      "Processing Record 339 of 598 | varhaug\n",
      "Processing Record 340 of 598 | ostersund\n",
      "Processing Record 341 of 598 | ahipara\n",
      "Processing Record 342 of 598 | inhambane\n",
      "Processing Record 343 of 598 | hami\n",
      "Processing Record 344 of 598 | prince rupert\n",
      "Processing Record 345 of 598 | ust-kamchatsk\n",
      "City not found. Skipping...\n",
      "Processing Record 346 of 598 | fonte boa\n",
      "Processing Record 347 of 598 | sobolevo\n",
      "Processing Record 348 of 598 | savonlinna\n",
      "Processing Record 349 of 598 | teahupoo\n",
      "Processing Record 350 of 598 | bara\n",
      "Processing Record 351 of 598 | adre\n",
      "Processing Record 352 of 598 | biograd na moru\n",
      "Processing Record 353 of 598 | marrakesh\n",
      "Processing Record 354 of 598 | tambacounda\n",
      "Processing Record 355 of 598 | kruisfontein\n",
      "Processing Record 356 of 598 | kuche\n",
      "City not found. Skipping...\n",
      "Processing Record 357 of 598 | zambezi\n",
      "Processing Record 358 of 598 | flin flon\n",
      "Processing Record 359 of 598 | quatre cocos\n"
     ]
    }
   ],
   "source": [
    "# Print log of each city as it'sbeing processed (with the city number and city name)\n",
    "# Initializing\n",
    "city_data = []\n",
    "not_found = []\n",
    "\n",
    "print('Obtaining data... ')\n",
    "\n",
    "# use iterrows to iterate through pandas dataframe\n",
    "for i, row in cities_df.iterrows():\n",
    "\n",
    "    # get city from \"city_df\" data frame\n",
    "    params['q'] = {row['City']}\n",
    "    \n",
    "    print(f\"Processing Record {i} of {len(cities_df)} | {row['City']}\")\n",
    "\n",
    "    try:\n",
    "        response = requests.get(url, params = params).json()\n",
    "        city_data.append(response)\n",
    "        cities_df.loc[i, 'Cloudiness'] = city_data[i]['clouds']['all']\n",
    "        cities_df.loc[i, 'Country']    = city_data[i]['sys']['country']\n",
    "        cities_df.loc[i, 'Date']       = city_data[i]['dt']\n",
    "        cities_df.loc[i, 'Humidity']   = city_data[i]['main']['humidity']\n",
    "        cities_df.loc[i, 'Lat']        = city_data[i]['coord']['lat']\n",
    "        cities_df.loc[i, 'Lng']        = city_data[i]['coord']['lon']\n",
    "        cities_df.loc[i, 'MaxTemp']    = city_data[i]['main']['temp_max']\n",
    "        cities_df.loc[i, 'WindSpeed']  = city_data[i]['wind']['speed']\n",
    "        \n",
    "    except:\n",
    "        print(\"City not found. Skipping...\")\n",
    "        not_found.append(i)\n",
    "        pass\n",
    "        \n",
    "print(\"End of Procesing...\")\n",
    "cities_df = cities_df.drop(cities_df.index[not_found])\n",
    "    "
   ]
  },
  {
   "cell_type": "code",
   "execution_count": null,
   "metadata": {},
   "outputs": [],
   "source": [
    "cities_df = cities_df.reset_index(drop = True)"
   ]
  },
  {
   "cell_type": "markdown",
   "metadata": {},
   "source": [
    "### Convert Raw Data to DataFrame\n",
    "* Export the city data into a .csv.\n",
    "* Display the DataFrame"
   ]
  },
  {
   "cell_type": "code",
   "execution_count": null,
   "metadata": {},
   "outputs": [],
   "source": [
    "# Export the city data into a .csv.\n",
    "cities_df.to_csv(output_data_file, index_label = \"City_ID\") "
   ]
  },
  {
   "cell_type": "code",
   "execution_count": null,
   "metadata": {},
   "outputs": [],
   "source": [
    "# Display the Data Frame\n",
    "cities_df"
   ]
  },
  {
   "cell_type": "markdown",
   "metadata": {},
   "source": [
    "### Plotting the Data\n",
    "* Use proper labeling of the plots using plot titles (including date of analysis) and axes labels.\n",
    "* Save the plotted figures as .pngs."
   ]
  },
  {
   "cell_type": "markdown",
   "metadata": {},
   "source": [
    "#### Latitude vs. Temperature Plot"
   ]
  },
  {
   "cell_type": "code",
   "execution_count": null,
   "metadata": {},
   "outputs": [],
   "source": [
    "cities_df['Lat']        = pd.to_numeric(cities_df.Lat)\n",
    "cities_df['MaxTemp']    = pd.to_numeric(cities_df.MaxTemp)\n",
    "cities_df['Humidity']   = pd.to_numeric(cities_df.Humidity)\n",
    "cities_df['Cloudiness'] = pd.to_numeric(cities_df.Cloudiness)\n",
    "cities_df['WindSpeed']  = pd.to_numeric(cities_df.WindSpeed)"
   ]
  },
  {
   "cell_type": "code",
   "execution_count": null,
   "metadata": {},
   "outputs": [],
   "source": [
    "# Data to made plots\n",
    "date = time.strftime('%d/%m/%y')\n",
    "\n",
    "lat = cities_df['Lat']\n",
    "tem = cities_df['MaxTemp']\n",
    "hum = cities_df['Humidity']\n",
    "clo = cities_df['Cloudiness']\n",
    "wsd = cities_df['WindSpeed']\n"
   ]
  },
  {
   "cell_type": "code",
   "execution_count": null,
   "metadata": {
    "scrolled": true
   },
   "outputs": [],
   "source": [
    "plt.scatter(lat, tem)\n",
    "plt.title(f\"Latitude vs. Max Temperature - {date}\")\n",
    "plt.ylabel('Max Temperature (F)')\n",
    "plt.xlabel('Latitude')\n",
    "plt.grid(True)\n",
    "plt.show()\n",
    "\n",
    "#Save plot\n",
    "plt.savefig(\"output_data/Max_Temperature_vs_Latitude.png\")\n"
   ]
  },
  {
   "cell_type": "markdown",
   "metadata": {},
   "source": [
    "#### Latitude vs. Humidity Plot"
   ]
  },
  {
   "cell_type": "code",
   "execution_count": null,
   "metadata": {},
   "outputs": [],
   "source": [
    "plt.scatter(lat, hum)\n",
    "plt.title(f\"Latitude vs. Humidity - {date}\")\n",
    "plt.ylabel('Humidity (%)')\n",
    "plt.xlabel('Latitude')\n",
    "plt.grid(True)\n",
    "plt.show()\n",
    "\n",
    "#Save plot\n",
    "plt.savefig(\"output_data/Humidity_vs_Latitude.png\")"
   ]
  },
  {
   "cell_type": "markdown",
   "metadata": {},
   "source": [
    "#### Latitude vs. Cloudiness Plot"
   ]
  },
  {
   "cell_type": "code",
   "execution_count": null,
   "metadata": {},
   "outputs": [],
   "source": [
    "plt.scatter(lat, clo)\n",
    "plt.title(f\"Latitude vs. Cloudiness - {date}\")\n",
    "plt.ylabel('Cloudiness (%)')\n",
    "plt.xlabel('Latitude')\n",
    "plt.grid(True)\n",
    "plt.show()\n",
    "\n",
    "#Save plot\n",
    "plt.savefig(\"output_data/Cloudiness_vs_Latitude.png\")"
   ]
  },
  {
   "cell_type": "markdown",
   "metadata": {},
   "source": [
    "#### Latitude vs. Wind Speed Plot"
   ]
  },
  {
   "cell_type": "code",
   "execution_count": null,
   "metadata": {},
   "outputs": [],
   "source": [
    "plt.scatter(lat, wsd)\n",
    "plt.title(f\"Latitude vs. Wind Speed - {date}\")\n",
    "plt.ylabel('Wind Speed (mph)')\n",
    "plt.xlabel('Latitude')\n",
    "plt.grid(True)\n",
    "plt.show()\n",
    "\n",
    "#Save plot\n",
    "plt.savefig(\"output_data/Wind_Speed_vs_Latitude.png\")"
   ]
  },
  {
   "cell_type": "markdown",
   "metadata": {},
   "source": [
    "## Linear Regression"
   ]
  },
  {
   "cell_type": "code",
   "execution_count": null,
   "metadata": {},
   "outputs": [],
   "source": [
    "# OPTIONAL: Create a function to create Linear Regression plots\n",
    "\n",
    "def ln_regress(x, y, var_name):\n",
    "    \n",
    "    #Linear Regression\n",
    "    slope, intercept, r_value, p_value, std_err = linregress(x, y)\n",
    "    line_x = np.arange(x.min(), x.max())\n",
    "    line_y = slope * line_x + intercept\n",
    "        \n",
    "    # Scatter Plot    \n",
    "    plt.scatter(x, y)\n",
    "    plt.grid(True)\n",
    "\n",
    "    #Linear Regression Plot\n",
    "    plt.plot(line_x, line_y, \"r\", label='$%.2fx + %.2f$, $R^2=%.2f$' % (slope, intercept, r_value**2) )\n",
    "    plt.legend(loc='best')\n",
    "    plt.title(\"Linear Regression: \" + var_name + \" vs Latitude\" )\n",
    "    plt.xlabel(\"Latitude\")\n",
    "    plt.ylabel(var_name)\n",
    "    \n",
    "    # Save plot\n",
    "#     plt.savefig(\"output_data/ln_regress_\" + var_name + \".png\")"
   ]
  },
  {
   "cell_type": "code",
   "execution_count": null,
   "metadata": {},
   "outputs": [],
   "source": [
    "# Create Northern and Southern Hemisphere DataFrames\n",
    "north_df = cities_df.loc[(cities_df[\"Lat\"] >= 0)]\n",
    "south_df = cities_df.loc[(cities_df[\"Lat\"] <  0)]"
   ]
  },
  {
   "cell_type": "markdown",
   "metadata": {},
   "source": [
    "####  Northern Hemisphere - Max Temp vs. Latitude Linear Regression"
   ]
  },
  {
   "cell_type": "code",
   "execution_count": null,
   "metadata": {},
   "outputs": [],
   "source": [
    "ln_regress(north_df[\"Lat\"], north_df[\"MaxTemp\"], \"Max Temperature\")"
   ]
  },
  {
   "cell_type": "markdown",
   "metadata": {},
   "source": [
    "####  Southern Hemisphere - Max Temp vs. Latitude Linear Regression"
   ]
  },
  {
   "cell_type": "code",
   "execution_count": null,
   "metadata": {},
   "outputs": [],
   "source": [
    "ln_regress(south_df[\"Lat\"], south_df[\"MaxTemp\"], \"Max Temperature\")"
   ]
  },
  {
   "cell_type": "markdown",
   "metadata": {},
   "source": [
    "####  Northern Hemisphere - Humidity (%) vs. Latitude Linear Regression"
   ]
  },
  {
   "cell_type": "code",
   "execution_count": null,
   "metadata": {},
   "outputs": [],
   "source": [
    "ln_regress(north_df[\"Lat\"], north_df[\"Humidity\"], \"Humidity\")"
   ]
  },
  {
   "cell_type": "markdown",
   "metadata": {},
   "source": [
    "####  Southern Hemisphere - Humidity (%) vs. Latitude Linear Regression"
   ]
  },
  {
   "cell_type": "code",
   "execution_count": null,
   "metadata": {},
   "outputs": [],
   "source": [
    "ln_regress(south_df[\"Lat\"], south_df[\"Humidity\"], \"Humidity\")"
   ]
  },
  {
   "cell_type": "markdown",
   "metadata": {},
   "source": [
    "####  Northern Hemisphere - Cloudiness (%) vs. Latitude Linear Regression"
   ]
  },
  {
   "cell_type": "code",
   "execution_count": null,
   "metadata": {},
   "outputs": [],
   "source": [
    "ln_regress(north_df[\"Lat\"], north_df[\"Cloudiness\"], \"Cloudiness\")"
   ]
  },
  {
   "cell_type": "markdown",
   "metadata": {},
   "source": [
    "####  Southern Hemisphere - Cloudiness (%) vs. Latitude Linear Regression"
   ]
  },
  {
   "cell_type": "code",
   "execution_count": null,
   "metadata": {},
   "outputs": [],
   "source": [
    "ln_regress(south_df[\"Lat\"], south_df[\"Cloudiness\"], \"Cloudiness\")"
   ]
  },
  {
   "cell_type": "markdown",
   "metadata": {},
   "source": [
    "####  Northern Hemisphere - Wind Speed (mph) vs. Latitude Linear Regression"
   ]
  },
  {
   "cell_type": "code",
   "execution_count": null,
   "metadata": {},
   "outputs": [],
   "source": [
    "ln_regress(north_df[\"Lat\"], north_df[\"WindSpeed\"], \"Wind Speed\")"
   ]
  },
  {
   "cell_type": "markdown",
   "metadata": {},
   "source": [
    "####  Southern Hemisphere - Wind Speed (mph) vs. Latitude Linear Regression"
   ]
  },
  {
   "cell_type": "code",
   "execution_count": null,
   "metadata": {},
   "outputs": [],
   "source": [
    "ln_regress(south_df[\"Lat\"], south_df[\"WindSpeed\"], \"Wind Speed\")"
   ]
  },
  {
   "cell_type": "code",
   "execution_count": null,
   "metadata": {},
   "outputs": [],
   "source": []
  }
 ],
 "metadata": {
  "anaconda-cloud": {},
  "kernel_info": {
   "name": "python3"
  },
  "kernelspec": {
   "display_name": "Python 3",
   "language": "python",
   "name": "python3"
  },
  "language_info": {
   "codemirror_mode": {
    "name": "ipython",
    "version": 3
   },
   "file_extension": ".py",
   "mimetype": "text/x-python",
   "name": "python",
   "nbconvert_exporter": "python",
   "pygments_lexer": "ipython3",
   "version": "3.8.3"
  },
  "latex_envs": {
   "LaTeX_envs_menu_present": true,
   "autoclose": false,
   "autocomplete": true,
   "bibliofile": "biblio.bib",
   "cite_by": "apalike",
   "current_citInitial": 1,
   "eqLabelWithNumbers": true,
   "eqNumInitial": 1,
   "hotkeys": {
    "equation": "Ctrl-E",
    "itemize": "Ctrl-I"
   },
   "labels_anchors": false,
   "latex_user_defs": false,
   "report_style_numbering": false,
   "user_envs_cfg": false
  },
  "nteract": {
   "version": "0.12.3"
  }
 },
 "nbformat": 4,
 "nbformat_minor": 2
}
